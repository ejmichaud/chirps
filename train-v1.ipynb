{
 "cells": [
  {
   "cell_type": "markdown",
   "id": "b5889676",
   "metadata": {},
   "source": [
    "# In this notebook, we'll train networks $A(t, r)$ and $\\phi(t, r)$ on SEONBRv2 data\n",
    "\n",
    "We have determined that the waveform amplitude and phase curves, while dependent on the ratio of the two masses, do not depend on the scale of the masses up to a rescaling of space and time. By this, I mean that we can learn to predict a curve (as a function of mass ratio) for some fixed mass scale (say, for instance, that the min(M1, M2) = 100M☉), and then for systems with a different mass, to recover the waveform, we just stretch and scale the network's output. "
   ]
  },
  {
   "cell_type": "code",
   "execution_count": 1,
   "id": "200e774b",
   "metadata": {},
   "outputs": [],
   "source": [
    "from itertools import islice\n",
    "import random\n",
    "\n",
    "import numpy as np\n",
    "import matplotlib.pyplot as plt\n",
    "from tqdm.auto import tqdm\n",
    "\n",
    "import torch\n",
    "import torch.nn as nn\n",
    "\n",
    "from pycbc import waveform"
   ]
  },
  {
   "cell_type": "code",
   "execution_count": 2,
   "id": "c6e020ec",
   "metadata": {},
   "outputs": [
    {
     "data": {
      "text/plain": [
       "<torch._C.Generator at 0x7f1e65a2a2d0>"
      ]
     },
     "execution_count": 2,
     "metadata": {},
     "output_type": "execute_result"
    }
   ],
   "source": [
    "########### Set Seeds for Reproducibility ############\n",
    "random.seed(0)\n",
    "np.random.seed(0)\n",
    "torch.manual_seed(0)"
   ]
  },
  {
   "cell_type": "code",
   "execution_count": 3,
   "id": "a87c74d0",
   "metadata": {},
   "outputs": [
    {
     "name": "stdout",
     "output_type": "stream",
     "text": [
      "Using device: cuda\n"
     ]
    }
   ],
   "source": [
    "########### Set Device ############\n",
    "device = torch.device('cuda' if torch.cuda.is_available() else 'cpu')\n",
    "dtype = torch.float64\n",
    "torch.set_default_dtype(dtype)\n",
    "print(\"Using device: {}\".format(device))"
   ]
  },
  {
   "cell_type": "code",
   "execution_count": 4,
   "id": "fff99936",
   "metadata": {},
   "outputs": [],
   "source": [
    "REFERENCE_MASS = 100 # (M_☉)\n",
    "SCALE = 1e-18"
   ]
  },
  {
   "cell_type": "code",
   "execution_count": 5,
   "id": "ad6ba9c4",
   "metadata": {},
   "outputs": [],
   "source": [
    "def predict_amplitude(t, M1, M2, amplitude_network):\n",
    "    \"\"\"Evaluates amplitude `network` at times `t` and rescales \n",
    "    the predicted amplitude accordingly.\"\"\"\n",
    "    gamma = min(M1, M2) / REFERENCE_MASS\n",
    "    r = max(M1, M2) / min(M1, M2)\n",
    "    x = np.zeros((len(t), 2))\n",
    "    t_scaled = t / gamma\n",
    "    x[:, 0] = t_scaled\n",
    "    x[:, 1] = r\n",
    "    with torch.no_grad():\n",
    "        x = torch.tensor(x)\n",
    "        y = amplitude_network(x.to(device)).cpu().numpy()\n",
    "    return y * gamma * SCALE\n",
    "\n",
    "def predict_phase(t, M1, M2, phase_network):\n",
    "    \"\"\"Evaluates phase `network` at times `t` and rescales \n",
    "    the predicted phases accordingly.\"\"\"\n",
    "    gamma = min(M1, M2) / REFERENCE_MASS\n",
    "    r = max(M1, M2) / min(M1, M2)\n",
    "    x = np.zeros((len(t), 2))\n",
    "    t_scaled = t / gamma\n",
    "    x[:, 0] = t_scaled\n",
    "    x[:, 1] = r\n",
    "    with torch.no_grad():\n",
    "        x = torch.tensor(x)\n",
    "        y = phase_network(x.to(device)).cpu().numpy()\n",
    "    return y"
   ]
  },
  {
   "cell_type": "code",
   "execution_count": 6,
   "id": "6b81ddbf",
   "metadata": {},
   "outputs": [],
   "source": [
    "class GWDataset(torch.utils.data.Dataset):\n",
    "    \"\"\"Stores either (t, r) -> h or (t, r) -> \\phi datasets\"\"\"\n",
    "    \n",
    "    def __init__(self, data_dict):\n",
    "        super(GWDataset).__init__()\n",
    "        self.data_dict = data_dict\n",
    "        self.total_length = sum(len(values) for values in data_dict.values())\n",
    "        self.input_array = np.zeros((self.total_length, 2))\n",
    "        self.output_array = np.zeros((self.total_length, 1))\n",
    "        i = 0\n",
    "        for r, values in self.data_dict.items():\n",
    "            self.input_array[i:i+len(values), 0] = np.array(values.sample_times)\n",
    "            self.input_array[i:i+len(values), 1] = r * np.ones(len(values))\n",
    "            self.output_array[i:i+len(values), 0] = np.array(values)\n",
    "            i += len(values)\n",
    "        \n",
    "    def __len__(self):\n",
    "        return self.total_length\n",
    "    \n",
    "    def __getitem__(self, i):\n",
    "        return self.input_array[i], self.output_array[i]\n",
    "        "
   ]
  },
  {
   "cell_type": "markdown",
   "id": "9abb4b8d",
   "metadata": {},
   "source": [
    "### Compute waveform data from SEOBNRv2"
   ]
  },
  {
   "cell_type": "code",
   "execution_count": 7,
   "id": "0e10a093",
   "metadata": {},
   "outputs": [
    {
     "data": {
      "application/vnd.jupyter.widget-view+json": {
       "model_id": "9b5bab85b542444eb37ef9718347d7f3",
       "version_major": 2,
       "version_minor": 0
      },
      "text/plain": [
       "  0%|          | 0/90 [00:00<?, ?it/s]"
      ]
     },
     "metadata": {},
     "output_type": "display_data"
    }
   ],
   "source": [
    "r_range = np.arange(1.0, 10.0, 0.1) # r ∈ [1.0, 10.0)\n",
    "amplitude_curves = dict()\n",
    "phase_curves = dict()\n",
    "for r in tqdm(r_range):\n",
    "    M1 = REFERENCE_MASS\n",
    "    M2 = r * M1\n",
    "    hp, hc = waveform.get_td_waveform(approximant='SEOBNRv2',\n",
    "                                mass1=M1,\n",
    "                                mass2=M2,\n",
    "                                delta_t=1e-3,\n",
    "                                f_lower=1.5)\n",
    "    amps = waveform.utils.amplitude_from_polarizations(hp, hc) / SCALE\n",
    "    phases = waveform.utils.phase_from_polarizations(hp, hc)\n",
    "    phases = phases - phases.at_time(0)\n",
    "#     nonzero_indices = np.nonzero(amps)[0]\n",
    "#     zero_duration = (1 - (len(nonzero_indices) / len(amps))) / amps.duration\n",
    "#     amps = amps.crop(0, zero_duration)\n",
    "    amplitude_curves[r] = amps\n",
    "    phase_curves[r] = phases"
   ]
  },
  {
   "cell_type": "markdown",
   "id": "40c683b8",
   "metadata": {},
   "source": [
    "## Train a network on the amplitude data"
   ]
  },
  {
   "cell_type": "code",
   "execution_count": 8,
   "id": "14cadd46",
   "metadata": {},
   "outputs": [],
   "source": [
    "data = GWDataset(amplitude_curves)\n",
    "train = torch.utils.data.DataLoader(data, batch_size=500, shuffle=True)\n",
    "train_copy = torch.utils.data.DataLoader(data, batch_size=500, shuffle=True)"
   ]
  },
  {
   "cell_type": "code",
   "execution_count": 9,
   "id": "98c2ec59",
   "metadata": {},
   "outputs": [],
   "source": [
    "WIDTH = 50\n",
    "amplitude_network = nn.Sequential(\n",
    "    nn.Linear(2, WIDTH),\n",
    "    nn.Tanh(),\n",
    "    nn.Linear(WIDTH, WIDTH),\n",
    "    nn.Tanh(),\n",
    "    nn.Linear(WIDTH, WIDTH),\n",
    "    nn.Tanh(),\n",
    "    nn.Linear(WIDTH, 1)\n",
    ").to(device)"
   ]
  },
  {
   "cell_type": "code",
   "execution_count": 10,
   "id": "7c3f1e7f",
   "metadata": {},
   "outputs": [],
   "source": [
    "loss_fn = nn.MSELoss()\n",
    "optimizer = torch.optim.Adam(amplitude_network.parameters())"
   ]
  },
  {
   "cell_type": "code",
   "execution_count": 11,
   "id": "ba696a43",
   "metadata": {},
   "outputs": [
    {
     "data": {
      "application/vnd.jupyter.widget-view+json": {
       "model_id": "23f9233e8ddb42898179073218d24789",
       "version_major": 2,
       "version_minor": 0
      },
      "text/plain": [
       "  0%|          | 0/10 [00:00<?, ?it/s]"
      ]
     },
     "metadata": {},
     "output_type": "display_data"
    },
    {
     "name": "stdout",
     "output_type": "stream",
     "text": [
      "Epoch   0 loss: 0.0000413\n",
      "Epoch   1 loss: 0.0000478\n",
      "Epoch   2 loss: 0.0000061\n",
      "Epoch   3 loss: 0.0000138\n",
      "Epoch   4 loss: 0.0000112\n",
      "Epoch   5 loss: 0.0000045\n",
      "Epoch   6 loss: 0.0000833\n",
      "Epoch   7 loss: 0.0000014\n",
      "Epoch   8 loss: 0.0000020\n",
      "Epoch   9 loss: 0.0000191\n"
     ]
    }
   ],
   "source": [
    "for epoch in tqdm(range(10)):\n",
    "    amplitude_network.train()\n",
    "    for x, y in train:\n",
    "        optimizer.zero_grad()\n",
    "        loss = loss_fn(amplitude_network(x.to(device)), y.to(device))\n",
    "        loss.backward()\n",
    "        optimizer.step()\n",
    "    \n",
    "    amplitude_network.eval()\n",
    "    with torch.no_grad():\n",
    "        test_loss = 0\n",
    "        num_samples = 0\n",
    "        for x, y in islice(train_copy, 1000):\n",
    "            test_loss += len(y) * loss_fn(amplitude_network(x.to(device)), y.to(device))\n",
    "            num_samples += len(y)\n",
    "        print(\"Epoch {0:3d} loss: {1:.7f}\".format(epoch, test_loss / num_samples))\n"
   ]
  },
  {
   "cell_type": "code",
   "execution_count": 12,
   "id": "e7f28af9",
   "metadata": {},
   "outputs": [
    {
     "data": {
      "text/plain": [
       "(-5.0, 4.0)"
      ]
     },
     "execution_count": 12,
     "metadata": {},
     "output_type": "execute_result"
    },
    {
     "data": {
      "image/png": "[encoded data removed]",
      "text/plain": [
       "<Figure size 432x288 with 1 Axes>"
      ]
     },
     "metadata": {
      "needs_background": "light"
     },
     "output_type": "display_data"
    }
   ],
   "source": [
    "r = 2.73 # this precise value of r is not in the training dataset\n",
    "M1 = 431\n",
    "M2 = r * M1\n",
    "hp, hc = waveform.get_td_waveform(approximant='SEOBNRv2',\n",
    "                            mass1=M1,\n",
    "                            mass2=M2,\n",
    "                            delta_t=1e-3,\n",
    "                            f_lower=2.0)\n",
    "amps = waveform.utils.amplitude_from_polarizations(hp, hc)\n",
    "predicted_amps = predict_amplitude(amps.sample_times, M1, M2, amplitude_network)\n",
    "\n",
    "plt.plot(amps.sample_times, amps, label=\"SEOBNRv2\")\n",
    "plt.plot(amps.sample_times, predicted_amps, label=\"network\")\n",
    "plt.legend()\n",
    "plt.xlim(-5, 4)"
   ]
  },
  {
   "cell_type": "code",
   "execution_count": 13,
   "id": "588db3e3",
   "metadata": {},
   "outputs": [
    {
     "data": {
      "text/plain": [
       "(-80.0, 1.0)"
      ]
     },
     "execution_count": 13,
     "metadata": {},
     "output_type": "execute_result"
    },
    {
     "data": {
      "image/png": "[encoded data removed]",
      "text/plain": [
       "<Figure size 432x288 with 1 Axes>"
      ]
     },
     "metadata": {
      "needs_background": "light"
     },
     "output_type": "display_data"
    }
   ],
   "source": [
    "r = 1.05 # this precise value of r is not in the training dataset\n",
    "M1 = 20\n",
    "M2 = r * M1\n",
    "hp, hc = waveform.get_td_waveform(approximant='SEOBNRv2',\n",
    "                            mass1=M1,\n",
    "                            mass2=M2,\n",
    "                            delta_t=1e-3,\n",
    "                            f_lower=5.0)\n",
    "amps = waveform.utils.amplitude_from_polarizations(hp, hc)\n",
    "predicted_amps = predict_amplitude(amps.sample_times, M1, M2, amplitude_network)\n",
    "\n",
    "plt.plot(amps.sample_times, amps, label=\"SEOBNRv2\")\n",
    "plt.plot(amps.sample_times, predicted_amps, label=\"network\")\n",
    "plt.legend()\n",
    "plt.xlim(-80, 1.0)"
   ]
  },
  {
   "cell_type": "markdown",
   "id": "2ff38d33",
   "metadata": {},
   "source": [
    "## Train a network on the phase data"
   ]
  },
  {
   "cell_type": "code",
   "execution_count": 14,
   "id": "b77b4eb2",
   "metadata": {},
   "outputs": [],
   "source": [
    "data = GWDataset(phase_curves)\n",
    "train = torch.utils.data.DataLoader(data, batch_size=500, shuffle=True)\n",
    "train_copy = torch.utils.data.DataLoader(data, batch_size=500, shuffle=True)"
   ]
  },
  {
   "cell_type": "code",
   "execution_count": 15,
   "id": "c2e645e7",
   "metadata": {},
   "outputs": [],
   "source": [
    "WIDTH = 50\n",
    "phase_network = nn.Sequential(\n",
    "    nn.Linear(2, WIDTH),\n",
    "    nn.Tanh(),\n",
    "    nn.Linear(WIDTH, WIDTH),\n",
    "    nn.Tanh(),\n",
    "    nn.Linear(WIDTH, WIDTH),\n",
    "    nn.Tanh(),\n",
    "    nn.Linear(WIDTH, 1)\n",
    ").to(device)"
   ]
  },
  {
   "cell_type": "code",
   "execution_count": 16,
   "id": "b3b1ae82",
   "metadata": {},
   "outputs": [],
   "source": [
    "loss_fn = nn.MSELoss()\n",
    "optimizer = torch.optim.Adam(phase_network.parameters())"
   ]
  },
  {
   "cell_type": "code",
   "execution_count": 17,
   "id": "ae3fe78d",
   "metadata": {},
   "outputs": [
    {
     "data": {
      "application/vnd.jupyter.widget-view+json": {
       "model_id": "2d22f6fcbe404cd9b29a9b989076808e",
       "version_major": 2,
       "version_minor": 0
      },
      "text/plain": [
       "  0%|          | 0/15 [00:00<?, ?it/s]"
      ]
     },
     "metadata": {},
     "output_type": "display_data"
    },
    {
     "name": "stdout",
     "output_type": "stream",
     "text": [
      "Epoch   0 loss: 152615.5175181\n",
      "Epoch   1 loss: 56241.4481144\n",
      "Epoch   2 loss: 16913.3743613\n",
      "Epoch   3 loss: 3708.0644497\n",
      "Epoch   4 loss: 450.1406687\n",
      "Epoch   5 loss: 27.7902985\n",
      "Epoch   6 loss: 2.7831719\n",
      "Epoch   7 loss: 2.4142254\n",
      "Epoch   8 loss: 0.5598501\n",
      "Epoch   9 loss: 2.2912506\n",
      "Epoch  10 loss: 0.2945060\n",
      "Epoch  11 loss: 1.9091620\n",
      "Epoch  12 loss: 0.3154218\n",
      "Epoch  13 loss: 0.4717549\n",
      "Epoch  14 loss: 0.2649245\n"
     ]
    }
   ],
   "source": [
    "for epoch in tqdm(range(15)):\n",
    "    phase_network.train()\n",
    "    for x, y in train:\n",
    "        optimizer.zero_grad()\n",
    "        loss = loss_fn(phase_network(x.to(device)), y.to(device))\n",
    "        loss.backward()\n",
    "        optimizer.step()\n",
    "    \n",
    "    phase_network.eval()\n",
    "    with torch.no_grad():\n",
    "        test_loss = 0\n",
    "        num_samples = 0\n",
    "        for x, y in islice(train_copy, 1000):\n",
    "            test_loss += len(y) * loss_fn(phase_network(x.to(device)), y.to(device))\n",
    "            num_samples += len(y)\n",
    "        print(\"Epoch {0:3d} loss: {1:.7f}\".format(epoch, test_loss / num_samples))\n"
   ]
  },
  {
   "cell_type": "code",
   "execution_count": 18,
   "id": "0ec70510",
   "metadata": {},
   "outputs": [
    {
     "data": {
      "text/plain": [
       "(-5.0, 4.0)"
      ]
     },
     "execution_count": 18,
     "metadata": {},
     "output_type": "execute_result"
    },
    {
     "data": {
      "image/png": "[encoded data removed]",
      "text/plain": [
       "<Figure size 432x288 with 1 Axes>"
      ]
     },
     "metadata": {
      "needs_background": "light"
     },
     "output_type": "display_data"
    }
   ],
   "source": [
    "r = 1.57 # this precise value of r is not in the training dataset\n",
    "M1 = 431\n",
    "M2 = r * M1\n",
    "hp, hc = waveform.get_td_waveform(approximant='SEOBNRv2',\n",
    "                            mass1=M1,\n",
    "                            mass2=M2,\n",
    "                            delta_t=1e-3,\n",
    "                            f_lower=2.0)\n",
    "phase = waveform.utils.phase_from_polarizations(hp, hc)\n",
    "phase = phase - phase.at_time(0)\n",
    "predicted_phase = predict_phase(phase.sample_times, M1, M2, phase_network)\n",
    "\n",
    "plt.plot(phase.sample_times, phase, label=\"SEOBNRv2\")\n",
    "plt.plot(phase.sample_times, predicted_phase, label=\"network\")\n",
    "plt.legend()\n",
    "plt.xlim(-5, 4)"
   ]
  },
  {
   "cell_type": "code",
   "execution_count": 19,
   "id": "ec25fb76",
   "metadata": {},
   "outputs": [
    {
     "data": {
      "text/plain": [
       "(-20.0, 4.0)"
      ]
     },
     "execution_count": 19,
     "metadata": {},
     "output_type": "execute_result"
    },
    {
     "data": {
      "image/png": "[encoded data removed]",
      "text/plain": [
       "<Figure size 432x288 with 1 Axes>"
      ]
     },
     "metadata": {
      "needs_background": "light"
     },
     "output_type": "display_data"
    }
   ],
   "source": [
    "r = 1.57 # this precise value of r is not in the training dataset\n",
    "M1 = 20\n",
    "M2 = r * M1\n",
    "hp, hc = waveform.get_td_waveform(approximant='SEOBNRv2',\n",
    "                            mass1=M1,\n",
    "                            mass2=M2,\n",
    "                            delta_t=1e-3,\n",
    "                            f_lower=2.0)\n",
    "phase = waveform.utils.phase_from_polarizations(hp, hc)\n",
    "phase = phase - phase.at_time(0)\n",
    "predicted_phase = predict_phase(phase.sample_times, M1, M2, phase_network)\n",
    "\n",
    "plt.plot(phase.sample_times, phase, label=\"SEOBNRv2\")\n",
    "plt.plot(phase.sample_times, predicted_phase, label=\"network\")\n",
    "plt.legend()\n",
    "plt.xlim(-20, 4)"
   ]
  },
  {
   "cell_type": "code",
   "execution_count": null,
   "id": "fa67e65c",
   "metadata": {},
   "outputs": [],
   "source": []
  }
 ],
 "metadata": {
  "kernelspec": {
   "display_name": "Python 3 (ipykernel)",
   "language": "python",
   "name": "python3"
  },
  "language_info": {
   "codemirror_mode": {
    "name": "ipython",
    "version": 3
   },
   "file_extension": ".py",
   "mimetype": "text/x-python",
   "name": "python",
   "nbconvert_exporter": "python",
   "pygments_lexer": "ipython3",
   "version": "3.7.11"
  }
 },
 "nbformat": 4,
 "nbformat_minor": 5
}
