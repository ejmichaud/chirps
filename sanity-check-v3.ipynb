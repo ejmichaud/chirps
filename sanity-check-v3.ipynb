{
 "cells": [
  {
   "cell_type": "code",
   "execution_count": 1,
   "id": "2f842d82",
   "metadata": {},
   "outputs": [],
   "source": [
    "import numpy as np\n",
    "import matplotlib.pyplot as plt\n",
    "from tqdm.auto import tqdm\n",
    "\n",
    "from astropy import constants\n",
    "from astropy import units as u\n",
    "\n",
    "from pycbc import waveform"
   ]
  },
  {
   "cell_type": "code",
   "execution_count": 2,
   "id": "34506421",
   "metadata": {},
   "outputs": [],
   "source": [
    "def analytic_remaining_time(r0, M1, M2):\n",
    "    M = M1 + M2\n",
    "    mu = M1 * M2 / M\n",
    "    return 5 * np.power(constants.c, 5) * np.power(r0, 4) / (256 * np.power(constants.G, 3) * mu * np.power(M, 2))\n",
    "\n",
    "def analytic_remaining_time_from_freq(Omega0, M1, M2):\n",
    "    first_term = 5 * np.power(constants.c, 5) / (256 * np.power(constants.G, 3) * (M1 + M2) * M1 * M2)\n",
    "    second_term = np.power(constants.G * (M1 + M2) / np.power(Omega0, 2), 4/3)\n",
    "    return first_term * second_term\n",
    "\n",
    "def analytic_radius(t, M1, M2):\n",
    "    M = M1 + M2\n",
    "    mu = M1 * M2 / M\n",
    "    alpha = 5 * np.power(constants.c, 5) / (256 * np.power(constants.G, 3))\n",
    "    return np.power(-mu * np.power(M, 2) / alpha * t, 1/4)\n",
    "\n",
    "def analytic_radial_freq(t, M1, M2):\n",
    "    M = M1 + M2\n",
    "    mu = M1 * M2 / M\n",
    "    alpha = 5 * np.power(constants.c, 5) / (256 * np.power(constants.G, 3))\n",
    "    return np.sqrt(constants.G * M) * np.power(-mu * np.power(M, 2) * t / alpha, -3/8)"
   ]
  },
  {
   "cell_type": "markdown",
   "id": "2990b281",
   "metadata": {},
   "source": [
    "### Let's first do just a rescaling of the time coordinates that PyCBC outputs, no translation"
   ]
  },
  {
   "cell_type": "code",
   "execution_count": 3,
   "id": "08bfb377",
   "metadata": {},
   "outputs": [
    {
     "data": {
      "application/vnd.jupyter.widget-view+json": {
       "model_id": "dd30820808b746008262644d51f621e0",
       "version_major": 2,
       "version_minor": 0
      },
      "text/plain": [
       "  0%|          | 0/9 [00:00<?, ?it/s]"
      ]
     },
     "metadata": {},
     "output_type": "display_data"
    }
   ],
   "source": [
    "M1 = 100 * constants.M_sun\n",
    "M2 = 100 * constants.M_sun\n",
    "M_tot = M1 + M2\n",
    "\n",
    "omegas = list(range(3, 30, 3))\n",
    "data = []\n",
    "\n",
    "for omega_0 in tqdm(omegas):\n",
    "    omega_0 = omega_0 / u.s\n",
    "    hp, hc = waveform.get_td_waveform(approximant='SEOBNRv2',\n",
    "                                    mass1=M1 / constants.M_sun,\n",
    "                                    mass2=M2 / constants.M_sun,\n",
    "                                    delta_t=1/4096,\n",
    "                                    f_lower=omega_0.value / np.pi,\n",
    "                                    distance=1000)\n",
    "    amps = waveform.utils.amplitude_from_polarizations(hp, hc)\n",
    "    times, amps = amps.sample_times, amps\n",
    "#     times = times - times[0] # t = 0 at orbital angular freq omega_0\n",
    "    \n",
    "    tau = 2 * constants.G * M_tot / np.power(constants.c, 3)\n",
    "#     translation = (5 * np.power(constants.c, 5)) / \\\n",
    "#                         (256 * np.power(constants.G, 3) * M1 * M2 * M_tot) * \\\n",
    "#                         np.power(constants.G * M_tot / np.power(omega_0, 2), 4/3)\n",
    "\n",
    "#     times = (times - translation.value) / tau\n",
    "    times = times / tau\n",
    "    data.append((times, amps))"
   ]
  },
  {
   "cell_type": "code",
   "execution_count": 4,
   "id": "d69c1da4",
   "metadata": {},
   "outputs": [
    {
     "data": {
      "text/plain": [
       "<matplotlib.legend.Legend at 0x7f7f8f8c2bd0>"
      ]
     },
     "execution_count": 4,
     "metadata": {},
     "output_type": "execute_result"
    },
    {
     "data": {
      "image/png": "[encoded data removed]",
      "text/plain": [
       "<Figure size 432x288 with 1 Axes>"
      ]
     },
     "metadata": {
      "needs_background": "light"
     },
     "output_type": "display_data"
    }
   ],
   "source": [
    "colors = plt.cm.viridis(np.linspace(0, 1, len(omegas)))\n",
    "for i, (omega_0, (times, amps)) in enumerate(zip(omegas, data)):\n",
    "    plt.plot(times, amps, label=f\"Ω_0 = {omega_0}\", color=colors[i])\n",
    "\n",
    "plt.xlabel(\"Time (s) / (2GM/c^3)\")\n",
    "plt.ylabel(\"Rescaled Amplitude\")\n",
    "plt.xlim(-1000, 1000)\n",
    "plt.legend()"
   ]
  },
  {
   "cell_type": "code",
   "execution_count": 5,
   "id": "a9f3b401",
   "metadata": {},
   "outputs": [
    {
     "data": {
      "application/vnd.jupyter.widget-view+json": {
       "model_id": "1ed8b693f78c4cc1b5653b459116fdc8",
       "version_major": 2,
       "version_minor": 0
      },
      "text/plain": [
       "  0%|          | 0/6 [00:00<?, ?it/s]"
      ]
     },
     "metadata": {},
     "output_type": "display_data"
    }
   ],
   "source": [
    "omega_0 = 10\n",
    "masses = list(range(20, 200, 30))\n",
    "data = []\n",
    "\n",
    "for M in tqdm(masses):\n",
    "    M1 = M * constants.M_sun\n",
    "    M2 = M * constants.M_sun\n",
    "    M_tot = M1 + M2\n",
    "    omega_0 = omega_0 / u.s\n",
    "    hp, hc = waveform.get_td_waveform(approximant='SEOBNRv2',\n",
    "                                    mass1=M1 / constants.M_sun,\n",
    "                                    mass2=M2 / constants.M_sun,\n",
    "                                    delta_t=1/4096,\n",
    "                                    f_lower=omega_0.value / np.pi,\n",
    "                                    distance=1000)\n",
    "    amps = waveform.utils.amplitude_from_polarizations(hp, hc)\n",
    "    times, amps = amps.sample_times, amps\n",
    "#     times = times - times[0] # t = 0 at orbital angular freq omega_0\n",
    "    \n",
    "    tau = 2 * constants.G * M_tot / np.power(constants.c, 3)\n",
    "#     translation = (5 * np.power(constants.c, 5)) / \\\n",
    "#                         (256 * np.power(constants.G, 3) * M1 * M2 * M_tot) * \\\n",
    "#                         np.power(constants.G * M_tot / np.power(omega_0, 2), 4/3)\n",
    "\n",
    "#     times = (times - translation.value) / tau\n",
    "    times = times / tau\n",
    "    amps = amps / (M_tot / constants.M_sun)\n",
    "    data.append((times, amps))"
   ]
  },
  {
   "cell_type": "code",
   "execution_count": 6,
   "id": "f360290e",
   "metadata": {},
   "outputs": [
    {
     "data": {
      "text/plain": [
       "<matplotlib.legend.Legend at 0x7f7f8f76b990>"
      ]
     },
     "execution_count": 6,
     "metadata": {},
     "output_type": "execute_result"
    },
    {
     "data": {
      "image/png": "[encoded data removed]",
      "text/plain": [
       "<Figure size 432x288 with 1 Axes>"
      ]
     },
     "metadata": {
      "needs_background": "light"
     },
     "output_type": "display_data"
    }
   ],
   "source": [
    "colors = plt.cm.viridis(np.linspace(0, 1, len(masses)))\n",
    "for i, (mass, (times, amps)) in enumerate(zip(masses, data)):\n",
    "    plt.plot(times, amps, label=f\"M1 = M2 = {mass}\", color=colors[i])\n",
    "\n",
    "plt.xlabel(\"Time (s) / (2GM/c^3)\")\n",
    "plt.ylabel(\"Rescaled Amplitude\")\n",
    "plt.xlim(-1000, 1000)\n",
    "plt.legend()"
   ]
  },
  {
   "cell_type": "code",
   "execution_count": 7,
   "id": "22df8811",
   "metadata": {},
   "outputs": [
    {
     "data": {
      "application/vnd.jupyter.widget-view+json": {
       "model_id": "204dd57c826e462ea3d32fd71dcfd678",
       "version_major": 2,
       "version_minor": 0
      },
      "text/plain": [
       "  0%|          | 0/5 [00:00<?, ?it/s]"
      ]
     },
     "metadata": {},
     "output_type": "display_data"
    },
    {
     "name": "stdout",
     "output_type": "stream",
     "text": [
      "PyCBC time remaining: 110.754089348\n",
      "Our formula remaining: 109.58156131500968 s\n",
      "PyCBC time remaining: 16.790542595\n",
      "Our formula remaining: 17.258014472640802 s\n",
      "PyCBC time remaining: 5.424407952\n",
      "Our formula remaining: 5.853479989636581 s\n",
      "PyCBC time remaining: 2.390762322\n",
      "Our formula remaining: 2.717966964183815 s\n",
      "PyCBC time remaining: 1.252780728\n",
      "Our formula remaining: 1.499054672383554 s\n"
     ]
    }
   ],
   "source": [
    "M1 = 100 * constants.M_sun\n",
    "M2 = 100 * constants.M_sun\n",
    "M_tot = M1 + M2\n",
    "\n",
    "omegas = list(range(5, 30, 5))\n",
    "data = []\n",
    "\n",
    "for omega_0 in tqdm(omegas):\n",
    "    omega_0 = omega_0 / u.s\n",
    "    hp, hc = waveform.get_td_waveform(approximant='SEOBNRv2',\n",
    "                                    mass1=M1 / constants.M_sun,\n",
    "                                    mass2=M2 / constants.M_sun,\n",
    "                                    delta_t=1/4096,\n",
    "                                    f_lower=omega_0.value / np.pi,\n",
    "                                    distance=1000)\n",
    "    amps = waveform.utils.amplitude_from_polarizations(hp, hc)\n",
    "    times, amps = amps.sample_times, amps\n",
    "    print(f\"PyCBC time remaining: {abs(times[0])}\")\n",
    "    times = times - times[0] # t = 0 at orbital angular freq omega_0\n",
    "    \n",
    "    tau = 2 * constants.G * M_tot / np.power(constants.c, 3)\n",
    "    translation = (5 * np.power(constants.c, 5)) / \\\n",
    "                        (256 * np.power(constants.G, 3) * M1 * M2 * M_tot) * \\\n",
    "                        np.power(constants.G * M_tot / np.power(omega_0, 2), 4/3)\n",
    "    print(f\"Our formula remaining: {translation}\")\n",
    "\n",
    "    times = (times - translation.value) / tau\n",
    "    data.append((times, amps))"
   ]
  },
  {
   "cell_type": "code",
   "execution_count": 8,
   "id": "8f86c80c",
   "metadata": {},
   "outputs": [
    {
     "data": {
      "text/plain": [
       "<matplotlib.legend.Legend at 0x7f7f8f6d4910>"
      ]
     },
     "execution_count": 8,
     "metadata": {},
     "output_type": "execute_result"
    },
    {
     "data": {
      "image/png": "[encoded data removed]",
      "text/plain": [
       "<Figure size 432x288 with 1 Axes>"
      ]
     },
     "metadata": {
      "needs_background": "light"
     },
     "output_type": "display_data"
    }
   ],
   "source": [
    "colors = plt.cm.viridis(np.linspace(0, 1, len(omegas)))\n",
    "for i, (omega_0, (times, amps)) in enumerate(zip(omegas, data)):\n",
    "    plt.plot(times, amps, label=f\"Ω_0 = {omega_0}\", color=colors[i])\n",
    "\n",
    "plt.xlabel(\"Time (s) / (2GM/c^3)\")\n",
    "plt.ylabel(\"Rescaled Amplitude\")\n",
    "plt.xlim(-1000, 1000)\n",
    "plt.legend()"
   ]
  },
  {
   "cell_type": "code",
   "execution_count": 9,
   "id": "837642e1",
   "metadata": {},
   "outputs": [
    {
     "data": {
      "application/vnd.jupyter.widget-view+json": {
       "model_id": "a2c4861ec81a4cfcaa5aab190b547446",
       "version_major": 2,
       "version_minor": 0
      },
      "text/plain": [
       "  0%|          | 0/6 [00:00<?, ?it/s]"
      ]
     },
     "metadata": {},
     "output_type": "display_data"
    }
   ],
   "source": [
    "omega_0 = 10\n",
    "masses = list(range(20, 200, 30))\n",
    "data = []\n",
    "\n",
    "for M in tqdm(masses):\n",
    "    M1 = M * constants.M_sun\n",
    "    M2 = M * constants.M_sun\n",
    "    M_tot = M1 + M2\n",
    "    omega_0 = omega_0 / u.s\n",
    "    hp, hc = waveform.get_td_waveform(approximant='SEOBNRv2',\n",
    "                                    mass1=M1 / constants.M_sun,\n",
    "                                    mass2=M2 / constants.M_sun,\n",
    "                                    delta_t=1/4096,\n",
    "                                    f_lower=omega_0.value / np.pi,\n",
    "                                    distance=1000)\n",
    "    amps = waveform.utils.amplitude_from_polarizations(hp, hc)\n",
    "    times, amps = amps.sample_times, amps\n",
    "    times = times - times[0] # t = 0 at orbital angular freq omega_0\n",
    "    \n",
    "    tau = 2 * constants.G * M_tot / np.power(constants.c, 3)\n",
    "    translation = (5 * np.power(constants.c, 5)) / \\\n",
    "                        (256 * np.power(constants.G, 3) * M1 * M2 * M_tot) * \\\n",
    "                        np.power(constants.G * M_tot / np.power(omega_0, 2), 4/3)\n",
    "    times = (times - translation.value) / tau\n",
    "    amps = amps / (M_tot / constants.M_sun)\n",
    "    data.append((times, amps))"
   ]
  },
  {
   "cell_type": "code",
   "execution_count": 10,
   "id": "f5e05f4b",
   "metadata": {},
   "outputs": [
    {
     "data": {
      "text/plain": [
       "<matplotlib.legend.Legend at 0x7f7f8f635510>"
      ]
     },
     "execution_count": 10,
     "metadata": {},
     "output_type": "execute_result"
    },
    {
     "data": {
      "image/png": "[encoded data removed]",
      "text/plain": [
       "<Figure size 432x288 with 1 Axes>"
      ]
     },
     "metadata": {
      "needs_background": "light"
     },
     "output_type": "display_data"
    }
   ],
   "source": [
    "colors = plt.cm.viridis(np.linspace(0, 1, len(masses)))\n",
    "for i, (mass, (times, amps)) in enumerate(zip(masses, data)):\n",
    "    plt.plot(times, amps, label=f\"M1 = M2 = {mass}\", color=colors[i])\n",
    "\n",
    "plt.xlim(-1000, 1000)\n",
    "plt.xlabel(\"Time (s) / (2GM/c^3)\")\n",
    "plt.ylabel(\"Rescaled Amplitude\")\n",
    "plt.legend()"
   ]
  },
  {
   "cell_type": "markdown",
   "id": "6aa1499b",
   "metadata": {},
   "source": [
    "### Let's look at the error between the true frequency and the analytic frequency (although I'm not sure how PyCBC sets t=0 so maybe this is not a meaningful comparison)"
   ]
  },
  {
   "cell_type": "code",
   "execution_count": 11,
   "id": "44dcb5d5",
   "metadata": {},
   "outputs": [
    {
     "name": "stdout",
     "output_type": "stream",
     "text": [
      "0.7082043053948942\n"
     ]
    },
    {
     "name": "stderr",
     "output_type": "stream",
     "text": [
      "/home/eric/miniconda3/envs/chirps/lib/python3.7/site-packages/astropy/units/quantity.py:486: RuntimeWarning: invalid value encountered in power\n",
      "  result = super().__array_ufunc__(function, method, *arrays, **kwargs)\n"
     ]
    },
    {
     "data": {
      "image/png": "[encoded data removed]",
      "text/plain": [
       "<Figure size 432x288 with 1 Axes>"
      ]
     },
     "metadata": {
      "needs_background": "light"
     },
     "output_type": "display_data"
    }
   ],
   "source": [
    "hp, hc = waveform.get_td_waveform(approximant='SEOBNRv2',\n",
    "                                mass1=20,\n",
    "                                mass2=20,\n",
    "                                delta_t=1e-3,\n",
    "                                f_lower=5.0)\n",
    "freqs = waveform.utils.frequency_from_polarizations(hp, hc)\n",
    "analytic_freqs = (1 / np.pi) * analytic_radial_freq(freqs.sample_times*u.s, 20*constants.M_sun, 20*constants.M_sun).value\n",
    "\n",
    "pct_error = np.abs(freqs - analytic_freqs) / freqs * 100\n",
    "\n",
    "plt.plot(freqs.sample_times, pct_error)\n",
    "plt.xlabel(\"Time (s)\")\n",
    "plt.ylabel(\"% Error\")\n",
    "plt.ylim(-1, 10)\n",
    "print(pct_error[0])"
   ]
  },
  {
   "cell_type": "code",
   "execution_count": null,
   "id": "a7318238",
   "metadata": {},
   "outputs": [],
   "source": []
  },
  {
   "cell_type": "code",
   "execution_count": null,
   "id": "5b39d8e8",
   "metadata": {},
   "outputs": [],
   "source": []
  },
  {
   "cell_type": "code",
   "execution_count": null,
   "id": "f8fe7b9f",
   "metadata": {},
   "outputs": [],
   "source": []
  },
  {
   "cell_type": "code",
   "execution_count": null,
   "id": "2774cda3",
   "metadata": {},
   "outputs": [],
   "source": []
  },
  {
   "cell_type": "code",
   "execution_count": null,
   "id": "58cd7c3b",
   "metadata": {},
   "outputs": [],
   "source": []
  },
  {
   "cell_type": "markdown",
   "id": "9a498a42",
   "metadata": {},
   "source": [
    "This notebook mentions that due to cosmological redshift the waveform is stretched in a manner depending on the distance. Are we properly incorporating this? https://github.com/gwastro/PyCBC-Tutorials/blob/master/tutorial/1_CatalogData.ipynb"
   ]
  },
  {
   "cell_type": "code",
   "execution_count": null,
   "id": "9bc934e6",
   "metadata": {},
   "outputs": [],
   "source": []
  },
  {
   "cell_type": "code",
   "execution_count": null,
   "id": "5c1d6e94",
   "metadata": {},
   "outputs": [],
   "source": []
  },
  {
   "cell_type": "code",
   "execution_count": null,
   "id": "df724ec0",
   "metadata": {},
   "outputs": [],
   "source": []
  },
  {
   "cell_type": "code",
   "execution_count": null,
   "id": "15f3da24",
   "metadata": {},
   "outputs": [],
   "source": []
  },
  {
   "cell_type": "code",
   "execution_count": null,
   "id": "dd184452",
   "metadata": {},
   "outputs": [],
   "source": []
  },
  {
   "cell_type": "code",
   "execution_count": null,
   "id": "9142941e",
   "metadata": {},
   "outputs": [],
   "source": []
  },
  {
   "cell_type": "code",
   "execution_count": null,
   "id": "2625a6f9",
   "metadata": {},
   "outputs": [],
   "source": []
  },
  {
   "cell_type": "code",
   "execution_count": null,
   "id": "dafef655",
   "metadata": {},
   "outputs": [],
   "source": []
  },
  {
   "cell_type": "code",
   "execution_count": null,
   "id": "a33cf440",
   "metadata": {},
   "outputs": [],
   "source": []
  },
  {
   "cell_type": "code",
   "execution_count": null,
   "id": "550e6a86",
   "metadata": {},
   "outputs": [],
   "source": []
  },
  {
   "cell_type": "code",
   "execution_count": null,
   "id": "8b51afe9",
   "metadata": {},
   "outputs": [],
   "source": []
  },
  {
   "cell_type": "code",
   "execution_count": null,
   "id": "99419fe5",
   "metadata": {},
   "outputs": [],
   "source": []
  },
  {
   "cell_type": "code",
   "execution_count": null,
   "id": "1da50eee",
   "metadata": {},
   "outputs": [],
   "source": []
  }
 ],
 "metadata": {
  "kernelspec": {
   "display_name": "Python 3 (ipykernel)",
   "language": "python",
   "name": "python3"
  },
  "language_info": {
   "codemirror_mode": {
    "name": "ipython",
    "version": 3
   },
   "file_extension": ".py",
   "mimetype": "text/x-python",
   "name": "python",
   "nbconvert_exporter": "python",
   "pygments_lexer": "ipython3",
   "version": "3.7.11"
  }
 },
 "nbformat": 4,
 "nbformat_minor": 5
}
