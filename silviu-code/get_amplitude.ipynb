{
 "cells": [
  {
   "cell_type": "code",
   "execution_count": 1,
   "metadata": {},
   "outputs": [],
   "source": [
    "import numpy as np\n",
    "import matplotlib.pyplot as plt\n",
    "from scipy.optimize import curve_fit\n",
    "from scipy.interpolate import CubicSpline\n",
    "from pycbc.waveform import get_td_waveform"
   ]
  },
  {
   "cell_type": "code",
   "execution_count": 2,
   "metadata": {},
   "outputs": [
    {
     "name": "stdout",
     "output_type": "stream",
     "text": [
      "20 10.0\n",
      "\n"
     ]
    },
    {
     "data": {
      "image/png": "[encoded data removed]",
      "text/plain": [
       "<Figure size 432x288 with 1 Axes>"
      ]
     },
     "metadata": {
      "needs_background": "light"
     },
     "output_type": "display_data"
    }
   ],
   "source": [
    "f = 20\n",
    "apx = 'SEOBNRv2'\n",
    "m1_range = np.arange(20,30,1)\n",
    "ratio_range = np.arange(0.5,3,0.2)\n",
    "\n",
    "# m1_range = np.arange(20,21,1)\n",
    "# ratio_range = np.arange(0.5,0.7,0.2)\n",
    "\n",
    "for m1 in m1_range:\n",
    "    for ratio in ratio_range:\n",
    "        m2 = ratio*m1\n",
    "        print(m1,m2)\n",
    "        print(\"\")\n",
    "        # Generate Python data\n",
    "        hp, hc = get_td_waveform(approximant=apx,\n",
    "                                     mass1=m1,\n",
    "                                     mass2=m2,\n",
    "                                     delta_t=1.0/4096,\n",
    "                                     f_lower=f)\n",
    "        curve = np.column_stack((hp.sample_times,hp*10**19))\n",
    "        curve[:,0] = curve[:,0]-curve[:,0][0]\n",
    "        # plt.plot(curve[:,0],curve[:,1])\n",
    "\n",
    "        # Get the phase\n",
    "        x_sim = curve[:,0]\n",
    "        y = curve[:,1]\n",
    "\n",
    "        zeros = []\n",
    "        cs = CubicSpline(x_sim,y)\n",
    "        x_phi = np.arange(np.round(min(x_sim),3),np.round(max(x_sim)+0.00001,3),0.00001)\n",
    "        y_phi = cs(x_phi)\n",
    "        for j in range(len(x_phi)-1):#,int(96/100*len(x))):\n",
    "            if y_phi[j]*y_phi[j+1]<0:\n",
    "                zeros = zeros + [x_phi[j]]\n",
    "        pis = np.arange(0,len(zeros),1)*np.pi\n",
    "\n",
    "        cs_phase = CubicSpline(zeros,pis)\n",
    "        yy_phi = cs_phase(x_sim)\n",
    "\n",
    "        ##############################################################################################################   \n",
    "        # Get the amplitude\n",
    "        A = y/np.sin(yy_phi)\n",
    "\n",
    "        # Get rid of infinties in the amplitude\n",
    "        idx = np.where(abs(np.sin(yy_phi))>0.5)\n",
    "        x = x_sim[idx]\n",
    "        y = y[idx]\n",
    "        A = A[idx]\n",
    "        yy_phi = yy_phi[idx]\n",
    "\n",
    "        cs_amplitude = CubicSpline(x,A)\n",
    "\n",
    "        # Keep just 1000 equally spaced points\n",
    "        x_max = x[np.argmax(y)]\n",
    "        # x1 = np.linspace(min(x),x_max-250,1000)\n",
    "        # x2 = np.linspace(x_max-250,x_max+250,500)\n",
    "        x = np.linspace(min(x),max(x),2000)\n",
    "\n",
    "        yy_phi = cs_phase(x)\n",
    "        A = cs_amplitude(x)\n",
    "        \n",
    "        plt.plot(x,A)\n",
    "        break\n",
    "    break\n",
    "#         ##############################################################################################################   \n",
    "\n",
    "#         # plt.plot(x_sim,yy_phi)\n",
    "\n",
    "#         # Get analytic parameters\n",
    "#         t_star = 4.92*10**(-6)\n",
    "#         w = f*2*np.pi*t_star\n",
    "\n",
    "#         t0 = (5/4**(8/3)*w**(-8/3)*(m1+m2)**(1/3)/(m1*m2))*t_star \n",
    "#         # print(t0)\n",
    "#         def theta(m1,m2,t):\n",
    "#             return 2*(5/256)**(3/8)*(m1+m2)**(1/8)/(m1*m2)**(3/8)*(-8/5*((t0-t)/t_star)**(5/8))\n",
    "\n",
    "#         good_x = x-x[-1]\n",
    "#         good_y_analytic = theta(m1,m2,x_sim)-theta(m1,m2,x_sim)[0]-max(theta(m1,m2,x_sim)-theta(m1,m2,x_sim)[0])\n",
    "#         good_y_python = yy_phi-max(theta(m1,m2,x_sim)-theta(m1,m2,x_sim)[0])\n",
    "#         m_1 = np.ones(len(good_x))*m1\n",
    "#         m_2 = np.ones(len(good_x))*m2\n",
    "\n",
    "# #         analytic_data = np.column_stack((m_1,m_2,good_x,good_y_analytic))\n",
    "# #         python_data = np.column_stack((m_1,m_2,good_x,good_y_python))\n",
    "#         amplitude_data = np.column_stack((m_1,m_2,good_x,A))\n",
    "\n",
    "# #         np.savetxt(\"phase_data/analytic_data_%s_%s.txt\" %(m1,m2), analytic_data)\n",
    "# #         np.savetxt(\"phase_data/python_data_%s_%s.txt\" %(m1,m2), python_data)\n",
    "#         np.savetxt(\"amplitude_data/python_data_%s_%s.txt\" %(m1,ratio), amplitude_data)"
   ]
  }
 ],
 "metadata": {
  "kernelspec": {
   "display_name": "Python 3",
   "language": "python",
   "name": "python3"
  },
  "language_info": {
   "codemirror_mode": {
    "name": "ipython",
    "version": 3
   },
   "file_extension": ".py",
   "mimetype": "text/x-python",
   "name": "python",
   "nbconvert_exporter": "python",
   "pygments_lexer": "ipython3",
   "version": "3.6.8"
  }
 },
 "nbformat": 4,
 "nbformat_minor": 2
}
